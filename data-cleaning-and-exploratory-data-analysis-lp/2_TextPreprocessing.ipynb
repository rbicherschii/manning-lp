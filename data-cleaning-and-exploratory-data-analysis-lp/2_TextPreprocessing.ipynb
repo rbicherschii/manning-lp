{
 "cells": [
  {
   "cell_type": "code",
   "execution_count": 131,
   "metadata": {},
   "outputs": [],
   "source": [
    "import pandas as pd\n",
    "import seaborn as sns\n",
    "import matplotlib.pyplot as plt\n",
    "\n",
    "import nltk\n",
    "import string\n",
    "from nltk import word_tokenize\n",
    "from nltk.corpus import stopwords\n",
    "import string\n",
    "from nltk.stem import PorterStemmer"
   ]
  },
  {
   "cell_type": "markdown",
   "metadata": {},
   "source": [
    "## 1. Open the Initial EDA "
   ]
  },
  {
   "cell_type": "code",
   "execution_count": 132,
   "metadata": {},
   "outputs": [],
   "source": [
    "data = pd.read_csv(\"initial_eda.csv\")"
   ]
  },
  {
   "cell_type": "code",
   "execution_count": 133,
   "metadata": {},
   "outputs": [
    {
     "data": {
      "text/html": [
       "<div>\n",
       "<style scoped>\n",
       "    .dataframe tbody tr th:only-of-type {\n",
       "        vertical-align: middle;\n",
       "    }\n",
       "\n",
       "    .dataframe tbody tr th {\n",
       "        vertical-align: top;\n",
       "    }\n",
       "\n",
       "    .dataframe thead th {\n",
       "        text-align: right;\n",
       "    }\n",
       "</style>\n",
       "<table border=\"1\" class=\"dataframe\">\n",
       "  <thead>\n",
       "    <tr style=\"text-align: right;\">\n",
       "      <th></th>\n",
       "      <th>submission_id</th>\n",
       "      <th>submission_score</th>\n",
       "      <th>submission_title</th>\n",
       "      <th>submission_link_flair_text</th>\n",
       "      <th>submission_selftext</th>\n",
       "      <th>reply_author</th>\n",
       "      <th>reply_body</th>\n",
       "      <th>reply_created_utc</th>\n",
       "      <th>word_count</th>\n",
       "    </tr>\n",
       "  </thead>\n",
       "  <tbody>\n",
       "    <tr>\n",
       "      <th>0</th>\n",
       "      <td>aglcrj</td>\n",
       "      <td>1</td>\n",
       "      <td>Goodnotes 4 vs. Goodnotes 5 right now</td>\n",
       "      <td>NaN</td>\n",
       "      <td>I have used Goodnotes 4 for work a ton.  And I do mean a ton.  I bought and downloaded 5 yesterd...</td>\n",
       "      <td>Mauri97</td>\n",
       "      <td>I'm getting a ton of bugs with 5 as well (snappy lines, no response at times) and for some reaso...</td>\n",
       "      <td>1547656134</td>\n",
       "      <td>206</td>\n",
       "    </tr>\n",
       "    <tr>\n",
       "      <th>1</th>\n",
       "      <td>aglcrj</td>\n",
       "      <td>1</td>\n",
       "      <td>Goodnotes 4 vs. Goodnotes 5 right now</td>\n",
       "      <td>NaN</td>\n",
       "      <td>I have used Goodnotes 4 for work a ton.  And I do mean a ton.  I bought and downloaded 5 yesterd...</td>\n",
       "      <td>nathanwj</td>\n",
       "      <td>Goodnotes 5 is not yet compatible with the desktop app as it says in the release notes. There wi...</td>\n",
       "      <td>1547658625</td>\n",
       "      <td>115</td>\n",
       "    </tr>\n",
       "    <tr>\n",
       "      <th>2</th>\n",
       "      <td>aglcrj</td>\n",
       "      <td>1</td>\n",
       "      <td>Goodnotes 4 vs. Goodnotes 5 right now</td>\n",
       "      <td>NaN</td>\n",
       "      <td>I have used Goodnotes 4 for work a ton.  And I do mean a ton.  I bought and downloaded 5 yesterd...</td>\n",
       "      <td>Rowyfo</td>\n",
       "      <td>I haven't downloaded GN5 yet but watched a walkthrough and I did see that there's a snap option ...</td>\n",
       "      <td>1547662874</td>\n",
       "      <td>138</td>\n",
       "    </tr>\n",
       "    <tr>\n",
       "      <th>3</th>\n",
       "      <td>aglcrj</td>\n",
       "      <td>1</td>\n",
       "      <td>Goodnotes 4 vs. Goodnotes 5 right now</td>\n",
       "      <td>NaN</td>\n",
       "      <td>I have used Goodnotes 4 for work a ton.  And I do mean a ton.  I bought and downloaded 5 yesterd...</td>\n",
       "      <td>Mauri97</td>\n",
       "      <td>That sounds a lot like what's going on, thanks!</td>\n",
       "      <td>1547663080</td>\n",
       "      <td>39</td>\n",
       "    </tr>\n",
       "    <tr>\n",
       "      <th>4</th>\n",
       "      <td>aglcrj</td>\n",
       "      <td>1</td>\n",
       "      <td>Goodnotes 4 vs. Goodnotes 5 right now</td>\n",
       "      <td>NaN</td>\n",
       "      <td>I have used Goodnotes 4 for work a ton.  And I do mean a ton.  I bought and downloaded 5 yesterd...</td>\n",
       "      <td>nongaussian</td>\n",
       "      <td>I will probably stick to GoodNotes 4 for a while. Noticed that in GoodNotes 5 there is no easy w...</td>\n",
       "      <td>1547675267</td>\n",
       "      <td>239</td>\n",
       "    </tr>\n",
       "  </tbody>\n",
       "</table>\n",
       "</div>"
      ],
      "text/plain": [
       "  submission_id  submission_score                       submission_title  \\\n",
       "0        aglcrj                 1  Goodnotes 4 vs. Goodnotes 5 right now   \n",
       "1        aglcrj                 1  Goodnotes 4 vs. Goodnotes 5 right now   \n",
       "2        aglcrj                 1  Goodnotes 4 vs. Goodnotes 5 right now   \n",
       "3        aglcrj                 1  Goodnotes 4 vs. Goodnotes 5 right now   \n",
       "4        aglcrj                 1  Goodnotes 4 vs. Goodnotes 5 right now   \n",
       "\n",
       "  submission_link_flair_text  \\\n",
       "0                        NaN   \n",
       "1                        NaN   \n",
       "2                        NaN   \n",
       "3                        NaN   \n",
       "4                        NaN   \n",
       "\n",
       "                                                                                   submission_selftext  \\\n",
       "0  I have used Goodnotes 4 for work a ton.  And I do mean a ton.  I bought and downloaded 5 yesterd...   \n",
       "1  I have used Goodnotes 4 for work a ton.  And I do mean a ton.  I bought and downloaded 5 yesterd...   \n",
       "2  I have used Goodnotes 4 for work a ton.  And I do mean a ton.  I bought and downloaded 5 yesterd...   \n",
       "3  I have used Goodnotes 4 for work a ton.  And I do mean a ton.  I bought and downloaded 5 yesterd...   \n",
       "4  I have used Goodnotes 4 for work a ton.  And I do mean a ton.  I bought and downloaded 5 yesterd...   \n",
       "\n",
       "  reply_author  \\\n",
       "0      Mauri97   \n",
       "1     nathanwj   \n",
       "2       Rowyfo   \n",
       "3      Mauri97   \n",
       "4  nongaussian   \n",
       "\n",
       "                                                                                            reply_body  \\\n",
       "0  I'm getting a ton of bugs with 5 as well (snappy lines, no response at times) and for some reaso...   \n",
       "1  Goodnotes 5 is not yet compatible with the desktop app as it says in the release notes. There wi...   \n",
       "2  I haven't downloaded GN5 yet but watched a walkthrough and I did see that there's a snap option ...   \n",
       "3                                                      That sounds a lot like what's going on, thanks!   \n",
       "4  I will probably stick to GoodNotes 4 for a while. Noticed that in GoodNotes 5 there is no easy w...   \n",
       "\n",
       "   reply_created_utc  word_count  \n",
       "0         1547656134         206  \n",
       "1         1547658625         115  \n",
       "2         1547662874         138  \n",
       "3         1547663080          39  \n",
       "4         1547675267         239  "
      ]
     },
     "execution_count": 133,
     "metadata": {},
     "output_type": "execute_result"
    }
   ],
   "source": [
    "data.head(5)"
   ]
  },
  {
   "cell_type": "markdown",
   "metadata": {},
   "source": [
    "## 2. Removing hyperlinks and HEX code"
   ]
  },
  {
   "cell_type": "code",
   "execution_count": 134,
   "metadata": {},
   "outputs": [],
   "source": [
    "# Copying raw reply_body for future troubleshooting\n",
    "data['raw_reply_body'] = data['reply_body']"
   ]
  },
  {
   "cell_type": "code",
   "execution_count": 135,
   "metadata": {},
   "outputs": [
    {
     "name": "stderr",
     "output_type": "stream",
     "text": [
      "/var/folders/1x/hvb1q6g96_qgcywwm07fmxhc0000gn/T/ipykernel_8392/2375308378.py:4: FutureWarning: The default value of regex will change from True to False in a future version.\n",
      "  data['reply_body'] = data['reply_body'].str.replace(URL_PATTERN,'')\n",
      "/var/folders/1x/hvb1q6g96_qgcywwm07fmxhc0000gn/T/ipykernel_8392/2375308378.py:5: FutureWarning: The default value of regex will change from True to False in a future version.\n",
      "  data['reply_body'] = data['reply_body'].str.replace(HEX_PATTERN,'')\n"
     ]
    }
   ],
   "source": [
    "URL_PATTERN = r'[A-Za-z0-9]+://[A-Za-z0-9%-_]+(/[A-Za-z0-9%-_])*(#|\\\\?)[A-Za-z0-9%-_&=]*'\n",
    "HEX_PATTERN = r'[^\\x00-\\x7f]'\n",
    "\n",
    "data['reply_body'] = data['reply_body'].str.replace(URL_PATTERN,'')\n",
    "data['reply_body'] = data['reply_body'].str.replace(HEX_PATTERN,'')"
   ]
  },
  {
   "cell_type": "markdown",
   "metadata": {},
   "source": [
    "## 3/4/5/6. Preprocessing\n",
    "* Remove punctuations\n",
    "* Convert to lowercase\n",
    "* Remove StopWords\n",
    "* Stem the words"
   ]
  },
  {
   "cell_type": "code",
   "execution_count": 136,
   "metadata": {},
   "outputs": [],
   "source": [
    "def process(text):\n",
    "    stoplist = set(stopwords.words('english'))\n",
    "    ptStemmer = PorterStemmer()\n",
    "    \n",
    "    word_list = []\n",
    "    \n",
    "    text_lower = text.lower()\n",
    "    \n",
    "    # Getting rid of punctuation (3)\n",
    "    text_lower = \"\".join([char for char in text_lower if char not in string.punctuation])\n",
    "    \n",
    "    # To Lower conversion is happening here (4)\n",
    "    for word in word_tokenize(text_lower):\n",
    "        #print(word)\n",
    "        # Checking for stopWords (5)\n",
    "        if word in stoplist:\n",
    "            #print(\"Stripping stopword:\",word)\n",
    "            continue;\n",
    "            \n",
    "        # Removing words that are less than 3 characters long\n",
    "        if len(word) <3:\n",
    "            continue;\n",
    "    \n",
    "        # Stemming the word (6)\n",
    "        word_list.append(ptStemmer.stem(word))\n",
    "        \n",
    "    # Combining list back to single string\n",
    "    return ' '.join(word_list)"
   ]
  },
  {
   "cell_type": "code",
   "execution_count": 137,
   "metadata": {},
   "outputs": [],
   "source": [
    "data['reply_body'] = data['reply_body'].apply(process)"
   ]
  },
  {
   "cell_type": "code",
   "execution_count": 142,
   "metadata": {},
   "outputs": [],
   "source": [
    "# Removing empty reply_bodies (After preprocessing)\n",
    "data = data[data['reply_body'].str.len()>1]"
   ]
  },
  {
   "cell_type": "code",
   "execution_count": 143,
   "metadata": {},
   "outputs": [
    {
     "data": {
      "text/plain": [
       "0    get ton bug well snappi line respons time reason abil sync googl drive download multipl file goo...\n",
       "1                                    goodnot yet compat desktop app say releas note featur ad near futur\n",
       "2    havent download gn5 yet watch walkthrough see there snap option check uncheck think somewher pen...\n",
       "3                                                                           sound lot like what go thank\n",
       "4    probabl stick goodnot notic goodnot easi way export note dropbox pdf format love avail nonappl d...\n",
       "Name: reply_body, dtype: object"
      ]
     },
     "execution_count": 143,
     "metadata": {},
     "output_type": "execute_result"
    }
   ],
   "source": [
    "pd.set_option('display.max_colwidth', 100)\n",
    "data['reply_body'][0:5]"
   ]
  },
  {
   "cell_type": "markdown",
   "metadata": {},
   "source": [
    "## 7. Export the preprocessed DataFrame"
   ]
  },
  {
   "cell_type": "code",
   "execution_count": 144,
   "metadata": {},
   "outputs": [],
   "source": [
    "data.to_csv(\"preprocessed.csv\", index=False)"
   ]
  },
  {
   "cell_type": "code",
   "execution_count": null,
   "metadata": {},
   "outputs": [],
   "source": []
  },
  {
   "cell_type": "code",
   "execution_count": null,
   "metadata": {},
   "outputs": [],
   "source": []
  }
 ],
 "metadata": {
  "kernelspec": {
   "display_name": "manningLp",
   "language": "python",
   "name": "manninglp"
  },
  "language_info": {
   "codemirror_mode": {
    "name": "ipython",
    "version": 3
   },
   "file_extension": ".py",
   "mimetype": "text/x-python",
   "name": "python",
   "nbconvert_exporter": "python",
   "pygments_lexer": "ipython3",
   "version": "3.8.9"
  }
 },
 "nbformat": 4,
 "nbformat_minor": 4
}
