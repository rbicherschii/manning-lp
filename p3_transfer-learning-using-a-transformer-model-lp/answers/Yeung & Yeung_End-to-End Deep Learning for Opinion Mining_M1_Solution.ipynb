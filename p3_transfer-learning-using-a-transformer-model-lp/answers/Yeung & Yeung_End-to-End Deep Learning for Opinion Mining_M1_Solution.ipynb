{
 "cells": [
  {
   "cell_type": "markdown",
   "metadata": {},
   "source": [
    "## Milestone 1: Data Preprocessing"
   ]
  },
  {
   "cell_type": "markdown",
   "metadata": {},
   "source": [
    "1. Open the data\n",
    "2. Convert the `reply_body` from string to list of string using `ast.literal_eval`"
   ]
  },
  {
   "cell_type": "code",
   "execution_count": 15,
   "metadata": {
    "tags": []
   },
   "outputs": [],
   "source": [
    "import pandas as pd\n",
    "import ast\n",
    "raw_df = pd.read_csv('goodnotes_submission.csv')\n",
    "raw_df['reply_body'] = raw_df.reply_body.apply(lambda x: ast.literal_eval(x))"
   ]
  },
  {
   "cell_type": "markdown",
   "metadata": {},
   "source": [
    "3. Create a new field called `all_text` that combines `submission_title`, `submission_selftext` and first few comments from `reply_body`"
   ]
  },
  {
   "cell_type": "code",
   "execution_count": 16,
   "metadata": {
    "tags": []
   },
   "outputs": [],
   "source": [
    "for idx, row in raw_df.iterrows():\n",
    "    all_text = ''\n",
    "    all_text += row.submission_title\n",
    "    if type(row.submission_selftext)==str:\n",
    "        all_text += row.submission_selftext\n",
    "    if type(row.reply_body) ==list:\n",
    "        all_text += ' '.join(row.reply_body[:3]) # Include first 4 replies\n",
    "    \n",
    "    raw_df.loc[idx,'all_text'] = all_text"
   ]
  },
  {
   "cell_type": "markdown",
   "metadata": {},
   "source": [
    "4. Split df into `unlabelled_df` and `labelled_df` based on whether the `submission_link_flair_text` is present or not"
   ]
  },
  {
   "cell_type": "code",
   "execution_count": 17,
   "metadata": {
    "tags": []
   },
   "outputs": [],
   "source": [
    "unlabelled_df = raw_df[raw_df['submission_link_flair_text'].isnull()]\n",
    "labelled_df =raw_df[raw_df['submission_link_flair_text'].notnull()] "
   ]
  },
  {
   "cell_type": "markdown",
   "metadata": {},
   "source": [
    "5. We are simplifying the problem. For any tags (`Questions - iPhone`, `Question - Other`), their tag is reduced to `Question`"
   ]
  },
  {
   "cell_type": "code",
   "execution_count": 18,
   "metadata": {
    "tags": []
   },
   "outputs": [
    {
     "name": "stdout",
     "output_type": "stream",
     "text": [
      "(438, 6) (241, 6)\n"
     ]
    },
    {
     "name": "stderr",
     "output_type": "stream",
     "text": [
      "/home/winnie/miniconda3/envs/project2_env/lib/python3.7/site-packages/pandas/core/indexing.py:1637: SettingWithCopyWarning: \n",
      "A value is trying to be set on a copy of a slice from a DataFrame\n",
      "\n",
      "See the caveats in the documentation: https://pandas.pydata.org/pandas-docs/stable/user_guide/indexing.html#returning-a-view-versus-a-copy\n",
      "  self._setitem_single_block(indexer, value, name)\n",
      "/home/winnie/miniconda3/envs/project2_env/lib/python3.7/site-packages/pandas/core/indexing.py:692: SettingWithCopyWarning: \n",
      "A value is trying to be set on a copy of a slice from a DataFrame\n",
      "\n",
      "See the caveats in the documentation: https://pandas.pydata.org/pandas-docs/stable/user_guide/indexing.html#returning-a-view-versus-a-copy\n",
      "  iloc._setitem_with_indexer(indexer, value, self.name)\n"
     ]
    }
   ],
   "source": [
    "labelled_df.loc[labelled_df.submission_link_flair_text.str.contains('Question'),'submission_link_flair_text'] = 'Question'\n",
    "print(unlabelled_df.shape, labelled_df.shape)"
   ]
  },
  {
   "cell_type": "markdown",
   "metadata": {},
   "source": [
    "6. Train test split with 20% data as test set "
   ]
  },
  {
   "cell_type": "code",
   "execution_count": 19,
   "metadata": {
    "tags": []
   },
   "outputs": [],
   "source": [
    "X = list(labelled_df['all_text'])\n",
    "y = list(labelled_df['submission_link_flair_text'])\n",
    "from sklearn.model_selection import train_test_split\n",
    "train_texts, val_texts, train_labels, val_labels = train_test_split(X, y, test_size=.2,stratify=y,random_state=42)"
   ]
  },
  {
   "cell_type": "markdown",
   "metadata": {},
   "source": [
    "7. Create `train_tag_df` and `val_tag_df` with `prefix`, `input_text` (text), and `target_text` (labels) column"
   ]
  },
  {
   "cell_type": "code",
   "execution_count": 20,
   "metadata": {},
   "outputs": [],
   "source": [
    "category = ['tag classification']*len(train_labels)\n",
    "train_tag_df = pd.DataFrame({'prefix':category,\n",
    "                       'input_text': train_texts,\n",
    "                        'target_text': train_labels})"
   ]
  },
  {
   "cell_type": "code",
   "execution_count": 21,
   "metadata": {},
   "outputs": [],
   "source": [
    "category = ['tag classification']*len(val_labels)\n",
    "val_tag_df = pd.DataFrame({'prefix':category,\n",
    "                       'input_text': val_texts,\n",
    "                        'target_text': val_labels})"
   ]
  },
  {
   "cell_type": "markdown",
   "metadata": {},
   "source": [
    "8. Export `train_tag_df` as `singletask_noupsampling_train.csv`,\n",
    "`val_tag_df` as `singlatask_noupsampling_val.csv`,\n",
    "`unlabelled_df` as `unlabelled_df.csv`"
   ]
  },
  {
   "cell_type": "code",
   "execution_count": 22,
   "metadata": {},
   "outputs": [],
   "source": [
    "train_tag_df.to_csv('singletask_noupsampling_train.csv',index=False)\n",
    "val_tag_df.to_csv('singletask_noupsampling_val.csv',index=False)\n",
    "unlabelled_df.to_csv('unlabelled_df.csv',index=False)"
   ]
  },
  {
   "cell_type": "markdown",
   "metadata": {},
   "source": [
    "9. We want to upsampling certain groups of data and see whether that helps with training performance. We want to upsampling certain groups of data and see whether that helps with training performance.\n",
    "\n",
    "    - Create a function that will replicates certain number of copies based on the tag it has, and add the copies to the existing `train_tag_df`.\n",
    "\n",
    "    - Upsample 'Review','Stylus problems' tags 3 times and 'Templates' 2 times\n",
    "\n",
    "    - Do not add new rows to `val_tag_df`"
   ]
  },
  {
   "cell_type": "code",
   "execution_count": 24,
   "metadata": {
    "tags": []
   },
   "outputs": [],
   "source": [
    "from typing import List\n",
    "\n",
    "class Upsampler():    \n",
    "    def __init__(self, num_repetitions:int,label_targets:List[int]):\n",
    "        self.num_repetitions = num_repetitions\n",
    "        self.upsample = None\n",
    "        self.label_targets = label_targets\n",
    "        \n",
    "    def _generate_text(self, num, train_texts, train_labels):\n",
    "        new_train_text = []\n",
    "        new_labels = []\n",
    "        for text, label in zip(train_texts,train_labels):\n",
    "            if label ==num:\n",
    "                new_train_text.append(text)\n",
    "                new_labels.append(label)\n",
    "        return new_train_text, new_labels\n",
    "    \n",
    "    def create_upsample(self,train_texts, train_labels):\n",
    "        self.upsample = [(self._generate_text(num,train_texts,train_labels)) for num in self.label_targets]\n",
    "        \n",
    "    def insert_to_data(self,train_texts, train_labels):\n",
    "        self.create_upsample(train_texts,train_labels)\n",
    "        for new_text, new_labels in self.upsample:\n",
    "            for i in range(self.num_repetitions):\n",
    "                train_texts.extend(new_text)\n",
    "                train_labels.extend(new_labels)\n",
    "        return train_texts, train_labels"
   ]
  },
  {
   "cell_type": "code",
   "execution_count": 25,
   "metadata": {
    "tags": []
   },
   "outputs": [
    {
     "name": "stdout",
     "output_type": "stream",
     "text": [
      "Post up-sampling: 326 326\n"
     ]
    }
   ],
   "source": [
    "cur_sampler = Upsampler(num_repetitions=4,label_targets=['Review','Stylus problems'])\n",
    "train_texts, train_labels = cur_sampler.insert_to_data(train_texts,train_labels)\n",
    "cur_sampler = Upsampler(num_repetitions=2,label_targets=['Templates'])\n",
    "train_texts, train_labels = cur_sampler.insert_to_data(train_texts,train_labels)\n",
    "print(\"Post up-sampling:\",len(train_texts), len(train_labels))"
   ]
  },
  {
   "cell_type": "code",
   "execution_count": 26,
   "metadata": {
    "tags": []
   },
   "outputs": [
    {
     "data": {
      "text/plain": [
       "Question           143\n",
       "Templates           93\n",
       "Review              70\n",
       "Stylus problems     20\n",
       "dtype: int64"
      ]
     },
     "execution_count": 26,
     "metadata": {},
     "output_type": "execute_result"
    }
   ],
   "source": [
    "pd.Series(train_labels).value_counts()"
   ]
  },
  {
   "cell_type": "markdown",
   "metadata": {},
   "source": [
    "10. Export the expanded `train_tag_df` as 'singletask_train.csv'"
   ]
  },
  {
   "cell_type": "code",
   "execution_count": 29,
   "metadata": {},
   "outputs": [],
   "source": [
    "category = ['tag classification']*len(train_labels)\n",
    "train_tag_df = pd.DataFrame({'prefix':category,\n",
    "                       'input_text': train_texts,\n",
    "                        'target_text': train_labels})"
   ]
  },
  {
   "cell_type": "code",
   "execution_count": 30,
   "metadata": {},
   "outputs": [],
   "source": [
    "train_tag_df.to_csv('singletask_train.csv',index=False)"
   ]
  }
 ],
 "metadata": {
  "kernelspec": {
   "display_name": "Python 3",
   "language": "python",
   "name": "python3"
  },
  "language_info": {
   "codemirror_mode": {
    "name": "ipython",
    "version": 3
   },
   "file_extension": ".py",
   "mimetype": "text/x-python",
   "name": "python",
   "nbconvert_exporter": "python",
   "pygments_lexer": "ipython3",
   "version": "3.8.12"
  }
 },
 "nbformat": 4,
 "nbformat_minor": 4
}
