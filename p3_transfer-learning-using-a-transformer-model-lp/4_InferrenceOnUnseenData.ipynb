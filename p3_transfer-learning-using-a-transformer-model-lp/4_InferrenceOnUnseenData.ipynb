{
 "cells": [
  {
   "cell_type": "code",
   "execution_count": 107,
   "metadata": {},
   "outputs": [],
   "source": [
    "from transformers import AutoTokenizer,AutoModel\n",
    "import yaml\n",
    "import pandas as pd\n",
    "import matplotlib.pyplot as plt"
   ]
  },
  {
   "cell_type": "code",
   "execution_count": 9,
   "metadata": {},
   "outputs": [],
   "source": [
    "# Loading Credentials\n",
    "with open(\"credentials.yaml\", 'r') as stream:\n",
    "    credentials = yaml.safe_load(stream)"
   ]
  },
  {
   "cell_type": "markdown",
   "metadata": {},
   "source": [
    "## Pulling Model from huggingface Repo"
   ]
  },
  {
   "cell_type": "code",
   "execution_count": 192,
   "metadata": {},
   "outputs": [],
   "source": [
    "#First, tried AutoModel, since that was what searches for how to infer for T5 model lead me to:\n",
    "\n",
    "#tokenizer = AutoTokenizer.from_pretrained(\"roivian/manningLp\")\n",
    "#model = AutoModel.from_pretrained(\"roivian/manningLp\")\n"
   ]
  },
  {
   "cell_type": "code",
   "execution_count": 193,
   "metadata": {},
   "outputs": [],
   "source": [
    "# After getting some issues with the AutoModel, used additional ManningLP resources\n",
    "# so loading model the following way:\n",
    "\n",
    "from transformers.models.t5 import T5ForConditionalGeneration, T5Tokenizer\n",
    "model = T5ForConditionalGeneration.from_pretrained(\"roivian/manningLp\")\n",
    "tokenizer = T5Tokenizer.from_pretrained(\"roivian/manningLp\")"
   ]
  },
  {
   "cell_type": "markdown",
   "metadata": {},
   "source": [
    "## Infering Unlabeled Dataset"
   ]
  },
  {
   "cell_type": "code",
   "execution_count": 13,
   "metadata": {},
   "outputs": [],
   "source": [
    "data = pd.read_csv(\"unlabelled_df.csv\")"
   ]
  },
  {
   "cell_type": "code",
   "execution_count": 14,
   "metadata": {},
   "outputs": [
    {
     "data": {
      "text/html": [
       "<div>\n",
       "<style scoped>\n",
       "    .dataframe tbody tr th:only-of-type {\n",
       "        vertical-align: middle;\n",
       "    }\n",
       "\n",
       "    .dataframe tbody tr th {\n",
       "        vertical-align: top;\n",
       "    }\n",
       "\n",
       "    .dataframe thead th {\n",
       "        text-align: right;\n",
       "    }\n",
       "</style>\n",
       "<table border=\"1\" class=\"dataframe\">\n",
       "  <thead>\n",
       "    <tr style=\"text-align: right;\">\n",
       "      <th></th>\n",
       "      <th>submission_id</th>\n",
       "      <th>submission_title</th>\n",
       "      <th>submission_selftext</th>\n",
       "      <th>submission_link_flair_text</th>\n",
       "      <th>reply_body</th>\n",
       "      <th>all_text</th>\n",
       "      <th>reply_body_list</th>\n",
       "    </tr>\n",
       "  </thead>\n",
       "  <tbody>\n",
       "    <tr>\n",
       "      <th>0</th>\n",
       "      <td>aglcrj</td>\n",
       "      <td>Goodnotes 4 vs. Goodnotes 5 right now</td>\n",
       "      <td>I have used Goodnotes 4 for work a ton.  And I...</td>\n",
       "      <td>NaN</td>\n",
       "      <td>[\"I'm getting a ton of bugs with 5 as well (sn...</td>\n",
       "      <td>Goodnotes 4 vs. Goodnotes 5 right now I have u...</td>\n",
       "      <td>[\"I'm getting a ton of bugs with 5 as well (sn...</td>\n",
       "    </tr>\n",
       "    <tr>\n",
       "      <th>1</th>\n",
       "      <td>agoowm</td>\n",
       "      <td>The bundle is available !</td>\n",
       "      <td>NaN</td>\n",
       "      <td>NaN</td>\n",
       "      <td>['Thank you. I have been waiting!\\n\\n&amp;amp;#x20...</td>\n",
       "      <td>The bundle is available !  Thank you. I have b...</td>\n",
       "      <td>['Thank you. I have been waiting!\\n\\n&amp;amp;#x20...</td>\n",
       "    </tr>\n",
       "    <tr>\n",
       "      <th>2</th>\n",
       "      <td>agpzxb</td>\n",
       "      <td>What happened to the pen (Goodnotes 5)?</td>\n",
       "      <td>I just got Goodnotes 5 and I was so excited fo...</td>\n",
       "      <td>NaN</td>\n",
       "      <td>[\"Have you tried the ball pen? That was the cl...</td>\n",
       "      <td>What happened to the pen (Goodnotes 5)? I just...</td>\n",
       "      <td>[\"Have you tried the ball pen? That was the cl...</td>\n",
       "    </tr>\n",
       "    <tr>\n",
       "      <th>3</th>\n",
       "      <td>agq8qv</td>\n",
       "      <td>Non Apple Pencil styluses on GOodnotes 5?</td>\n",
       "      <td>I've been using a Wacom Bamboo stylus with Goo...</td>\n",
       "      <td>NaN</td>\n",
       "      <td>['According to the [review at Macstories](http...</td>\n",
       "      <td>Non Apple Pencil styluses on GOodnotes 5? I've...</td>\n",
       "      <td>['According to the [review at Macstories](http...</td>\n",
       "    </tr>\n",
       "    <tr>\n",
       "      <th>4</th>\n",
       "      <td>agqksi</td>\n",
       "      <td>Text/typing in Goodnotes 5</td>\n",
       "      <td>Notability user here, but trying out Goodnotes...</td>\n",
       "      <td>NaN</td>\n",
       "      <td>[\"That's neat af\", 'Seattle, hopefully not too...</td>\n",
       "      <td>Text/typing in Goodnotes 5 Notability user her...</td>\n",
       "      <td>[\"That's neat af\", 'Seattle, hopefully not too...</td>\n",
       "    </tr>\n",
       "  </tbody>\n",
       "</table>\n",
       "</div>"
      ],
      "text/plain": [
       "  submission_id                           submission_title  \\\n",
       "0        aglcrj      Goodnotes 4 vs. Goodnotes 5 right now   \n",
       "1        agoowm                  The bundle is available !   \n",
       "2        agpzxb    What happened to the pen (Goodnotes 5)?   \n",
       "3        agq8qv  Non Apple Pencil styluses on GOodnotes 5?   \n",
       "4        agqksi                 Text/typing in Goodnotes 5   \n",
       "\n",
       "                                 submission_selftext  \\\n",
       "0  I have used Goodnotes 4 for work a ton.  And I...   \n",
       "1                                                NaN   \n",
       "2  I just got Goodnotes 5 and I was so excited fo...   \n",
       "3  I've been using a Wacom Bamboo stylus with Goo...   \n",
       "4  Notability user here, but trying out Goodnotes...   \n",
       "\n",
       "   submission_link_flair_text  \\\n",
       "0                         NaN   \n",
       "1                         NaN   \n",
       "2                         NaN   \n",
       "3                         NaN   \n",
       "4                         NaN   \n",
       "\n",
       "                                          reply_body  \\\n",
       "0  [\"I'm getting a ton of bugs with 5 as well (sn...   \n",
       "1  ['Thank you. I have been waiting!\\n\\n&amp;#x20...   \n",
       "2  [\"Have you tried the ball pen? That was the cl...   \n",
       "3  ['According to the [review at Macstories](http...   \n",
       "4  [\"That's neat af\", 'Seattle, hopefully not too...   \n",
       "\n",
       "                                            all_text  \\\n",
       "0  Goodnotes 4 vs. Goodnotes 5 right now I have u...   \n",
       "1  The bundle is available !  Thank you. I have b...   \n",
       "2  What happened to the pen (Goodnotes 5)? I just...   \n",
       "3  Non Apple Pencil styluses on GOodnotes 5? I've...   \n",
       "4  Text/typing in Goodnotes 5 Notability user her...   \n",
       "\n",
       "                                     reply_body_list  \n",
       "0  [\"I'm getting a ton of bugs with 5 as well (sn...  \n",
       "1  ['Thank you. I have been waiting!\\n\\n&amp;#x20...  \n",
       "2  [\"Have you tried the ball pen? That was the cl...  \n",
       "3  ['According to the [review at Macstories](http...  \n",
       "4  [\"That's neat af\", 'Seattle, hopefully not too...  "
      ]
     },
     "execution_count": 14,
     "metadata": {},
     "output_type": "execute_result"
    }
   ],
   "source": [
    "data.head(5)"
   ]
  },
  {
   "cell_type": "code",
   "execution_count": 43,
   "metadata": {},
   "outputs": [],
   "source": [
    "# With Help from ManningLP"
   ]
  },
  {
   "cell_type": "code",
   "execution_count": 84,
   "metadata": {},
   "outputs": [],
   "source": [
    "def infer(to_predict):\n",
    "    \n",
    "    # Encoding\n",
    "    input_batch = tokenizer(to_predict,\n",
    "                padding=True,\n",
    "                truncation=True,\n",
    "                return_tensors='pt',\n",
    "                max_length=400)\n",
    "    input_ids = input_batch[\"input_ids\"]\n",
    "    attention_mask = input_batch[\"attention_mask\"]\n",
    "    \n",
    "    # Predicting\n",
    "    prediction = model.generate(input_ids=input_ids,\n",
    "            attention_mask=attention_mask,\n",
    "            num_beams=4,\n",
    "            max_length=300,\n",
    "            do_sample=True,\n",
    "            top_k=50,\n",
    "            top_p=0.95,\n",
    "            num_return_sequences=1)\n",
    "    \n",
    "    # Decoding Prediction\n",
    "    return [tokenizer.decode(x, skip_special_tokens=True) for x in prediction]\n",
    "    "
   ]
  },
  {
   "cell_type": "code",
   "execution_count": 87,
   "metadata": {},
   "outputs": [],
   "source": [
    "tag_prefix = \"\"#used empty string for my locally trained model\n",
    "title_prefix = 'title prediction'"
   ]
  },
  {
   "cell_type": "code",
   "execution_count": 88,
   "metadata": {},
   "outputs": [
    {
     "data": {
      "text/plain": [
       "['Question', 'Question']"
      ]
     },
     "execution_count": 88,
     "metadata": {},
     "output_type": "execute_result"
    }
   ],
   "source": [
    "# Validating on Smaller number of data\n",
    "\n",
    "X = list(tag_prefix+\": \"+data['all_text'][0:2])\n",
    "infer(X)"
   ]
  },
  {
   "cell_type": "code",
   "execution_count": 89,
   "metadata": {},
   "outputs": [
    {
     "data": {
      "text/plain": [
       "['Question about use with Goodnotes 5 and Supernotes 5',\n",
       " 'I’m having trouble with creating digests in my PDFs every time.']"
      ]
     },
     "execution_count": 89,
     "metadata": {},
     "output_type": "execute_result"
    }
   ],
   "source": [
    "X = list(title_prefix+\": \"+data['all_text'][0:2])\n",
    "infer(X)"
   ]
  },
  {
   "cell_type": "markdown",
   "metadata": {},
   "source": [
    "#### Infering for the entire unlabeled dataset"
   ]
  },
  {
   "cell_type": "code",
   "execution_count": 90,
   "metadata": {},
   "outputs": [],
   "source": [
    "to_predict = [\n",
    "    tag_prefix + \": \" + str(input_text)\n",
    "    for input_text in data[\"all_text\"].tolist()\n",
    "]"
   ]
  },
  {
   "cell_type": "code",
   "execution_count": 92,
   "metadata": {},
   "outputs": [],
   "source": [
    "data['inferred_flair_text']=infer(to_predict)"
   ]
  },
  {
   "cell_type": "code",
   "execution_count": 111,
   "metadata": {},
   "outputs": [
    {
     "data": {
      "image/png": "[encoded data removed]",
      "text/plain": [
       "<Figure size 504x504 with 1 Axes>"
      ]
     },
     "metadata": {},
     "output_type": "display_data"
    }
   ],
   "source": [
    "fig=plt.figure(figsize=(7,7))\n",
    "data[['inferred_flair_text']].groupby(by=\"inferred_flair_text\").size().plot.pie(autopct=\"%.1f%%\");"
   ]
  },
  {
   "cell_type": "markdown",
   "metadata": {},
   "source": [
    "#### Manually labeling some reviews"
   ]
  },
  {
   "cell_type": "code",
   "execution_count": 127,
   "metadata": {},
   "outputs": [],
   "source": [
    "data['manual_label'] = ''"
   ]
  },
  {
   "cell_type": "code",
   "execution_count": 188,
   "metadata": {},
   "outputs": [],
   "source": [
    "i = 72"
   ]
  },
  {
   "cell_type": "code",
   "execution_count": 189,
   "metadata": {},
   "outputs": [
    {
     "name": "stdout",
     "output_type": "stream",
     "text": [
      "Title: Chalkboard like?\n",
      "\n",
      "Body: Is there any kind of setting or customization to make GoodNotes \n",
      "look like a chalkboard and chalk-like pen?\n",
      "\n",
      "Comments: ['Nope', 'keynote has a great chalklike template', 'The best recommendation I have is to download a dark/chalkboard template; GoodNotes manages a Dropbox folder that includes said templates and can be subscribed to [here](https://support.goodnotes.com/hc/en-us/articles/115003609803-How-can-I-get-more-templates-for-GoodNotes-). You can then import the template into GoodNotes and use a white pen/marker to give it a chalkboard look.', 'There’s a chalkboard font, if you don’t mind typing instead of writing with the pen.', \"Just not sure why you would want to do this, but you can do it in Procreate if that's what you want to do.\", 'This is what I do, I created a PDF of various chalkboard backgrounds that I imported.  I tend to just use the pen but there is also a chalkboard font by apple you can use with the text tool.  Theres three, then I can just duplicate the one I want and create multiple pages in Goodnotes\\n\\n[https://imgur.com/a/pBxXrxv](https://imgur.com/a/pBxXrxv)\\n\\nI uploaded my PDF to GDrive if you want it\\n\\n[https://drive.google.com/file/d/1UPfaCdafnytpfLxJ\\\\_yFsw5aXxqThL-Lq/view?usp=sharing](https://drive.google.com/file/d/1UPfaCdafnytpfLxJ_yFsw5aXxqThL-Lq/view?usp=sharing)']\n"
     ]
    }
   ],
   "source": [
    "i+=1\n",
    "sample = data.iloc[i]\n",
    "print(\"Title:\",sample['submission_title'])\n",
    "print()\n",
    "print(\"Body:\", sample['submission_selftext'])\n",
    "print()\n",
    "print(\"Comments:\", sample['reply_body_list'])"
   ]
  },
  {
   "cell_type": "code",
   "execution_count": 190,
   "metadata": {},
   "outputs": [],
   "source": [
    "data.at[i,'manual_label']='Question'"
   ]
  },
  {
   "cell_type": "code",
   "execution_count": null,
   "metadata": {},
   "outputs": [],
   "source": []
  },
  {
   "cell_type": "code",
   "execution_count": 191,
   "metadata": {},
   "outputs": [
    {
     "data": {
      "text/html": [
       "<div>\n",
       "<style scoped>\n",
       "    .dataframe tbody tr th:only-of-type {\n",
       "        vertical-align: middle;\n",
       "    }\n",
       "\n",
       "    .dataframe tbody tr th {\n",
       "        vertical-align: top;\n",
       "    }\n",
       "\n",
       "    .dataframe thead th {\n",
       "        text-align: right;\n",
       "    }\n",
       "</style>\n",
       "<table border=\"1\" class=\"dataframe\">\n",
       "  <thead>\n",
       "    <tr style=\"text-align: right;\">\n",
       "      <th></th>\n",
       "      <th>inferred_flair_text</th>\n",
       "      <th>manual_label</th>\n",
       "    </tr>\n",
       "  </thead>\n",
       "  <tbody>\n",
       "    <tr>\n",
       "      <th>0</th>\n",
       "      <td>Question</td>\n",
       "      <td>Problems</td>\n",
       "    </tr>\n",
       "    <tr>\n",
       "      <th>1</th>\n",
       "      <td>Question</td>\n",
       "      <td>N/A</td>\n",
       "    </tr>\n",
       "    <tr>\n",
       "      <th>2</th>\n",
       "      <td>Question</td>\n",
       "      <td>Question</td>\n",
       "    </tr>\n",
       "    <tr>\n",
       "      <th>3</th>\n",
       "      <td>Question</td>\n",
       "      <td>Question</td>\n",
       "    </tr>\n",
       "    <tr>\n",
       "      <th>4</th>\n",
       "      <td>Question</td>\n",
       "      <td>Question</td>\n",
       "    </tr>\n",
       "    <tr>\n",
       "      <th>5</th>\n",
       "      <td>Question</td>\n",
       "      <td>Question</td>\n",
       "    </tr>\n",
       "    <tr>\n",
       "      <th>6</th>\n",
       "      <td>Question</td>\n",
       "      <td>Question</td>\n",
       "    </tr>\n",
       "    <tr>\n",
       "      <th>7</th>\n",
       "      <td>Question</td>\n",
       "      <td>Question</td>\n",
       "    </tr>\n",
       "    <tr>\n",
       "      <th>12</th>\n",
       "      <td>Templates</td>\n",
       "      <td>Templates</td>\n",
       "    </tr>\n",
       "    <tr>\n",
       "      <th>32</th>\n",
       "      <td>Templates</td>\n",
       "      <td>Templates</td>\n",
       "    </tr>\n",
       "    <tr>\n",
       "      <th>73</th>\n",
       "      <td>Question</td>\n",
       "      <td>Question</td>\n",
       "    </tr>\n",
       "    <tr>\n",
       "      <th>93</th>\n",
       "      <td>Question</td>\n",
       "      <td>Question</td>\n",
       "    </tr>\n",
       "    <tr>\n",
       "      <th>137</th>\n",
       "      <td>Review</td>\n",
       "      <td>Review</td>\n",
       "    </tr>\n",
       "  </tbody>\n",
       "</table>\n",
       "</div>"
      ],
      "text/plain": [
       "    inferred_flair_text manual_label\n",
       "0              Question     Problems\n",
       "1              Question          N/A\n",
       "2              Question     Question\n",
       "3              Question     Question\n",
       "4              Question     Question\n",
       "5              Question     Question\n",
       "6              Question     Question\n",
       "7              Question     Question\n",
       "12            Templates    Templates\n",
       "32            Templates    Templates\n",
       "73             Question     Question\n",
       "93             Question     Question\n",
       "137              Review       Review"
      ]
     },
     "execution_count": 191,
     "metadata": {},
     "output_type": "execute_result"
    }
   ],
   "source": [
    "data[data['manual_label']!=''][['inferred_flair_text','manual_label']]"
   ]
  },
  {
   "cell_type": "markdown",
   "metadata": {},
   "source": [
    "After manually labeling some of the unlabeled data, model seemed to do a decent job forecasting for different classes!\n",
    "Some topics that do not fall to any of the categories were categorized as Question, but that's understandable since Model can chose between options it is awared of. But overally pretty impressive!"
   ]
  },
  {
   "cell_type": "code",
   "execution_count": null,
   "metadata": {},
   "outputs": [],
   "source": []
  }
 ],
 "metadata": {
  "kernelspec": {
   "display_name": "manningLp",
   "language": "python",
   "name": "manninglp"
  },
  "language_info": {
   "codemirror_mode": {
    "name": "ipython",
    "version": 3
   },
   "file_extension": ".py",
   "mimetype": "text/x-python",
   "name": "python",
   "nbconvert_exporter": "python",
   "pygments_lexer": "ipython3",
   "version": "3.8.9"
  }
 },
 "nbformat": 4,
 "nbformat_minor": 4
}
