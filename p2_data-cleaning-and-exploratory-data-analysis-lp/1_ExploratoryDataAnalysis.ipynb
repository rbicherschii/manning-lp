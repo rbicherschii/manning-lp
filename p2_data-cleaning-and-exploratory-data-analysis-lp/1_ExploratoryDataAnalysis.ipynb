{
 "cells": [
  {
   "cell_type": "code",
   "execution_count": 227,
   "metadata": {},
   "outputs": [],
   "source": [
    "import pandas as pd\n",
    "import seaborn as sns\n",
    "import matplotlib.pyplot as plt"
   ]
  },
  {
   "cell_type": "code",
   "execution_count": 3,
   "metadata": {},
   "outputs": [],
   "source": []
  },
  {
   "cell_type": "markdown",
   "metadata": {},
   "source": [
    "## 1. Questions I'd like to answer:\n",
    "\n",
    "* How much data do we have\n",
    "* What is the data about (Fields, text subjects)\n",
    "* Identify outliers\n",
    "* Is the data complete? (Or there is missing data that we'd need to recover)"
   ]
  },
  {
   "cell_type": "markdown",
   "metadata": {},
   "source": [
    "## 2. Opening the CSV file\n",
    "(file was provided for this assignment)"
   ]
  },
  {
   "cell_type": "markdown",
   "metadata": {},
   "source": [
    "### Questions I'd like to answer about the data:\n",
    "1. What are the submissions with the highest submission_score(upvote)\n",
    "2. What are the submissions with the highest number of comments\n",
    "3. Average number of comments per submission"
   ]
  },
  {
   "cell_type": "code",
   "execution_count": 104,
   "metadata": {},
   "outputs": [],
   "source": [
    "data = pd.read_csv(\"2019_may2021_historical_detailed.csv\")"
   ]
  },
  {
   "cell_type": "code",
   "execution_count": 105,
   "metadata": {},
   "outputs": [
    {
     "data": {
      "text/html": [
       "<div>\n",
       "<style scoped>\n",
       "    .dataframe tbody tr th:only-of-type {\n",
       "        vertical-align: middle;\n",
       "    }\n",
       "\n",
       "    .dataframe tbody tr th {\n",
       "        vertical-align: top;\n",
       "    }\n",
       "\n",
       "    .dataframe thead th {\n",
       "        text-align: right;\n",
       "    }\n",
       "</style>\n",
       "<table border=\"1\" class=\"dataframe\">\n",
       "  <thead>\n",
       "    <tr style=\"text-align: right;\">\n",
       "      <th></th>\n",
       "      <th>submission_id</th>\n",
       "      <th>submission_score</th>\n",
       "      <th>submission_title</th>\n",
       "      <th>submission_link_flair_text</th>\n",
       "      <th>submission_selftext</th>\n",
       "      <th>reply_author</th>\n",
       "      <th>reply_body</th>\n",
       "      <th>reply_created_utc</th>\n",
       "    </tr>\n",
       "  </thead>\n",
       "  <tbody>\n",
       "    <tr>\n",
       "      <th>0</th>\n",
       "      <td>aglcrj</td>\n",
       "      <td>1</td>\n",
       "      <td>Goodnotes 4 vs. Goodnotes 5 right now</td>\n",
       "      <td>NaN</td>\n",
       "      <td>I have used Goodnotes 4 for work a ton.  And I...</td>\n",
       "      <td>Mauri97</td>\n",
       "      <td>I'm getting a ton of bugs with 5 as well (snap...</td>\n",
       "      <td>1547656134</td>\n",
       "    </tr>\n",
       "    <tr>\n",
       "      <th>1</th>\n",
       "      <td>aglcrj</td>\n",
       "      <td>1</td>\n",
       "      <td>Goodnotes 4 vs. Goodnotes 5 right now</td>\n",
       "      <td>NaN</td>\n",
       "      <td>I have used Goodnotes 4 for work a ton.  And I...</td>\n",
       "      <td>nathanwj</td>\n",
       "      <td>Goodnotes 5 is not yet compatible with the des...</td>\n",
       "      <td>1547658625</td>\n",
       "    </tr>\n",
       "    <tr>\n",
       "      <th>2</th>\n",
       "      <td>aglcrj</td>\n",
       "      <td>1</td>\n",
       "      <td>Goodnotes 4 vs. Goodnotes 5 right now</td>\n",
       "      <td>NaN</td>\n",
       "      <td>I have used Goodnotes 4 for work a ton.  And I...</td>\n",
       "      <td>Rowyfo</td>\n",
       "      <td>I haven't downloaded GN5 yet but watched a wal...</td>\n",
       "      <td>1547662874</td>\n",
       "    </tr>\n",
       "    <tr>\n",
       "      <th>3</th>\n",
       "      <td>aglcrj</td>\n",
       "      <td>1</td>\n",
       "      <td>Goodnotes 4 vs. Goodnotes 5 right now</td>\n",
       "      <td>NaN</td>\n",
       "      <td>I have used Goodnotes 4 for work a ton.  And I...</td>\n",
       "      <td>Mauri97</td>\n",
       "      <td>That sounds a lot like what's going on, thanks!</td>\n",
       "      <td>1547663080</td>\n",
       "    </tr>\n",
       "    <tr>\n",
       "      <th>4</th>\n",
       "      <td>aglcrj</td>\n",
       "      <td>1</td>\n",
       "      <td>Goodnotes 4 vs. Goodnotes 5 right now</td>\n",
       "      <td>NaN</td>\n",
       "      <td>I have used Goodnotes 4 for work a ton.  And I...</td>\n",
       "      <td>nongaussian</td>\n",
       "      <td>I will probably stick to GoodNotes 4 for a whi...</td>\n",
       "      <td>1547675267</td>\n",
       "    </tr>\n",
       "  </tbody>\n",
       "</table>\n",
       "</div>"
      ],
      "text/plain": [
       "  submission_id  submission_score                       submission_title  \\\n",
       "0        aglcrj                 1  Goodnotes 4 vs. Goodnotes 5 right now   \n",
       "1        aglcrj                 1  Goodnotes 4 vs. Goodnotes 5 right now   \n",
       "2        aglcrj                 1  Goodnotes 4 vs. Goodnotes 5 right now   \n",
       "3        aglcrj                 1  Goodnotes 4 vs. Goodnotes 5 right now   \n",
       "4        aglcrj                 1  Goodnotes 4 vs. Goodnotes 5 right now   \n",
       "\n",
       "  submission_link_flair_text  \\\n",
       "0                        NaN   \n",
       "1                        NaN   \n",
       "2                        NaN   \n",
       "3                        NaN   \n",
       "4                        NaN   \n",
       "\n",
       "                                 submission_selftext reply_author  \\\n",
       "0  I have used Goodnotes 4 for work a ton.  And I...      Mauri97   \n",
       "1  I have used Goodnotes 4 for work a ton.  And I...     nathanwj   \n",
       "2  I have used Goodnotes 4 for work a ton.  And I...       Rowyfo   \n",
       "3  I have used Goodnotes 4 for work a ton.  And I...      Mauri97   \n",
       "4  I have used Goodnotes 4 for work a ton.  And I...  nongaussian   \n",
       "\n",
       "                                          reply_body  reply_created_utc  \n",
       "0  I'm getting a ton of bugs with 5 as well (snap...         1547656134  \n",
       "1  Goodnotes 5 is not yet compatible with the des...         1547658625  \n",
       "2  I haven't downloaded GN5 yet but watched a wal...         1547662874  \n",
       "3    That sounds a lot like what's going on, thanks!         1547663080  \n",
       "4  I will probably stick to GoodNotes 4 for a whi...         1547675267  "
      ]
     },
     "execution_count": 105,
     "metadata": {},
     "output_type": "execute_result"
    }
   ],
   "source": [
    "data.head(5)"
   ]
  },
  {
   "cell_type": "code",
   "execution_count": 269,
   "metadata": {},
   "outputs": [
    {
     "data": {
      "text/html": [
       "<div>\n",
       "<style scoped>\n",
       "    .dataframe tbody tr th:only-of-type {\n",
       "        vertical-align: middle;\n",
       "    }\n",
       "\n",
       "    .dataframe tbody tr th {\n",
       "        vertical-align: top;\n",
       "    }\n",
       "\n",
       "    .dataframe thead th {\n",
       "        text-align: right;\n",
       "    }\n",
       "</style>\n",
       "<table border=\"1\" class=\"dataframe\">\n",
       "  <thead>\n",
       "    <tr style=\"text-align: right;\">\n",
       "      <th></th>\n",
       "      <th>submission_id</th>\n",
       "      <th>submission_score</th>\n",
       "      <th>submission_title</th>\n",
       "      <th>submission_link_flair_text</th>\n",
       "      <th>submission_selftext</th>\n",
       "      <th>reply_author</th>\n",
       "      <th>reply_body</th>\n",
       "      <th>reply_created_utc</th>\n",
       "      <th>word_count</th>\n",
       "    </tr>\n",
       "  </thead>\n",
       "  <tbody>\n",
       "    <tr>\n",
       "      <th>5381</th>\n",
       "      <td>lqzsfd</td>\n",
       "      <td>132</td>\n",
       "      <td>Some doodles I drew during (and outside!) of class today</td>\n",
       "      <td>NaN</td>\n",
       "      <td>NaN</td>\n",
       "      <td>mochi-muncher</td>\n",
       "      <td>I just used the highlighter tool to color it in.</td>\n",
       "      <td>1614144685</td>\n",
       "      <td>39</td>\n",
       "    </tr>\n",
       "    <tr>\n",
       "      <th>5382</th>\n",
       "      <td>lqzsfd</td>\n",
       "      <td>132</td>\n",
       "      <td>Some doodles I drew during (and outside!) of class today</td>\n",
       "      <td>NaN</td>\n",
       "      <td>NaN</td>\n",
       "      <td>Stupid-Mathematician</td>\n",
       "      <td>Wow this is amazing!</td>\n",
       "      <td>1614149168</td>\n",
       "      <td>17</td>\n",
       "    </tr>\n",
       "    <tr>\n",
       "      <th>5384</th>\n",
       "      <td>lqzsfd</td>\n",
       "      <td>132</td>\n",
       "      <td>Some doodles I drew during (and outside!) of class today</td>\n",
       "      <td>NaN</td>\n",
       "      <td>NaN</td>\n",
       "      <td>tigerooni</td>\n",
       "      <td>Niceeeee</td>\n",
       "      <td>1614175292</td>\n",
       "      <td>8</td>\n",
       "    </tr>\n",
       "    <tr>\n",
       "      <th>5379</th>\n",
       "      <td>lqzsfd</td>\n",
       "      <td>132</td>\n",
       "      <td>Some doodles I drew during (and outside!) of class today</td>\n",
       "      <td>NaN</td>\n",
       "      <td>NaN</td>\n",
       "      <td>LT_derp12</td>\n",
       "      <td>these look so good!</td>\n",
       "      <td>1614141548</td>\n",
       "      <td>16</td>\n",
       "    </tr>\n",
       "    <tr>\n",
       "      <th>5380</th>\n",
       "      <td>lqzsfd</td>\n",
       "      <td>132</td>\n",
       "      <td>Some doodles I drew during (and outside!) of class today</td>\n",
       "      <td>NaN</td>\n",
       "      <td>NaN</td>\n",
       "      <td>Prasoon_29</td>\n",
       "      <td>These are great. \\nHow do you fill colour?</td>\n",
       "      <td>1614143553</td>\n",
       "      <td>33</td>\n",
       "    </tr>\n",
       "    <tr>\n",
       "      <th>...</th>\n",
       "      <td>...</td>\n",
       "      <td>...</td>\n",
       "      <td>...</td>\n",
       "      <td>...</td>\n",
       "      <td>...</td>\n",
       "      <td>...</td>\n",
       "      <td>...</td>\n",
       "      <td>...</td>\n",
       "      <td>...</td>\n",
       "    </tr>\n",
       "    <tr>\n",
       "      <th>1331</th>\n",
       "      <td>g1qel9</td>\n",
       "      <td>0</td>\n",
       "      <td>Goodnotes is working on an improvement.</td>\n",
       "      <td>NaN</td>\n",
       "      <td>Got an email from the Goodnotes developer who says he understands the frustration in writing on ...</td>\n",
       "      <td>I_W_M_Y</td>\n",
       "      <td>All roads lead to Putin.</td>\n",
       "      <td>1622869165</td>\n",
       "      <td>20</td>\n",
       "    </tr>\n",
       "    <tr>\n",
       "      <th>1330</th>\n",
       "      <td>g1qel9</td>\n",
       "      <td>0</td>\n",
       "      <td>Goodnotes is working on an improvement.</td>\n",
       "      <td>NaN</td>\n",
       "      <td>Got an email from the Goodnotes developer who says he understands the frustration in writing on ...</td>\n",
       "      <td>HarderSpongebob</td>\n",
       "      <td>gearvr lens mod??</td>\n",
       "      <td>1622869165</td>\n",
       "      <td>15</td>\n",
       "    </tr>\n",
       "    <tr>\n",
       "      <th>1329</th>\n",
       "      <td>g1qel9</td>\n",
       "      <td>0</td>\n",
       "      <td>Goodnotes is working on an improvement.</td>\n",
       "      <td>NaN</td>\n",
       "      <td>Got an email from the Goodnotes developer who says he understands the frustration in writing on ...</td>\n",
       "      <td>ThickNerd69</td>\n",
       "      <td>Could always try 😉</td>\n",
       "      <td>1622869165</td>\n",
       "      <td>15</td>\n",
       "    </tr>\n",
       "    <tr>\n",
       "      <th>1328</th>\n",
       "      <td>g1qel9</td>\n",
       "      <td>0</td>\n",
       "      <td>Goodnotes is working on an improvement.</td>\n",
       "      <td>NaN</td>\n",
       "      <td>Got an email from the Goodnotes developer who says he understands the frustration in writing on ...</td>\n",
       "      <td>Littlepaddedprince</td>\n",
       "      <td>OMG Right!!! they are soooooooo adorable! On the topic of adorable! I really love your elegant d...</td>\n",
       "      <td>1622869165</td>\n",
       "      <td>125</td>\n",
       "    </tr>\n",
       "    <tr>\n",
       "      <th>3561</th>\n",
       "      <td>jv9mcr</td>\n",
       "      <td>0</td>\n",
       "      <td>Goodnotes collaboration</td>\n",
       "      <td>NaN</td>\n",
       "      <td>Anyone up for collaboration in goodnotes for Nephrology/Neurology?</td>\n",
       "      <td>Domestic_AA_Battery</td>\n",
       "      <td>🔥🔥🔥🥵</td>\n",
       "      <td>1622870265</td>\n",
       "      <td>4</td>\n",
       "    </tr>\n",
       "  </tbody>\n",
       "</table>\n",
       "<p>6323 rows × 9 columns</p>\n",
       "</div>"
      ],
      "text/plain": [
       "     submission_id  submission_score  \\\n",
       "5381        lqzsfd               132   \n",
       "5382        lqzsfd               132   \n",
       "5384        lqzsfd               132   \n",
       "5379        lqzsfd               132   \n",
       "5380        lqzsfd               132   \n",
       "...            ...               ...   \n",
       "1331        g1qel9                 0   \n",
       "1330        g1qel9                 0   \n",
       "1329        g1qel9                 0   \n",
       "1328        g1qel9                 0   \n",
       "3561        jv9mcr                 0   \n",
       "\n",
       "                                              submission_title  \\\n",
       "5381  Some doodles I drew during (and outside!) of class today   \n",
       "5382  Some doodles I drew during (and outside!) of class today   \n",
       "5384  Some doodles I drew during (and outside!) of class today   \n",
       "5379  Some doodles I drew during (and outside!) of class today   \n",
       "5380  Some doodles I drew during (and outside!) of class today   \n",
       "...                                                        ...   \n",
       "1331                   Goodnotes is working on an improvement.   \n",
       "1330                   Goodnotes is working on an improvement.   \n",
       "1329                   Goodnotes is working on an improvement.   \n",
       "1328                   Goodnotes is working on an improvement.   \n",
       "3561                                   Goodnotes collaboration   \n",
       "\n",
       "     submission_link_flair_text  \\\n",
       "5381                        NaN   \n",
       "5382                        NaN   \n",
       "5384                        NaN   \n",
       "5379                        NaN   \n",
       "5380                        NaN   \n",
       "...                         ...   \n",
       "1331                        NaN   \n",
       "1330                        NaN   \n",
       "1329                        NaN   \n",
       "1328                        NaN   \n",
       "3561                        NaN   \n",
       "\n",
       "                                                                                      submission_selftext  \\\n",
       "5381                                                                                                  NaN   \n",
       "5382                                                                                                  NaN   \n",
       "5384                                                                                                  NaN   \n",
       "5379                                                                                                  NaN   \n",
       "5380                                                                                                  NaN   \n",
       "...                                                                                                   ...   \n",
       "1331  Got an email from the Goodnotes developer who says he understands the frustration in writing on ...   \n",
       "1330  Got an email from the Goodnotes developer who says he understands the frustration in writing on ...   \n",
       "1329  Got an email from the Goodnotes developer who says he understands the frustration in writing on ...   \n",
       "1328  Got an email from the Goodnotes developer who says he understands the frustration in writing on ...   \n",
       "3561                                   Anyone up for collaboration in goodnotes for Nephrology/Neurology?   \n",
       "\n",
       "              reply_author  \\\n",
       "5381         mochi-muncher   \n",
       "5382  Stupid-Mathematician   \n",
       "5384             tigerooni   \n",
       "5379             LT_derp12   \n",
       "5380            Prasoon_29   \n",
       "...                    ...   \n",
       "1331               I_W_M_Y   \n",
       "1330       HarderSpongebob   \n",
       "1329           ThickNerd69   \n",
       "1328    Littlepaddedprince   \n",
       "3561   Domestic_AA_Battery   \n",
       "\n",
       "                                                                                               reply_body  \\\n",
       "5381                                                     I just used the highlighter tool to color it in.   \n",
       "5382                                                                                 Wow this is amazing!   \n",
       "5384                                                                                             Niceeeee   \n",
       "5379                                                                                  these look so good!   \n",
       "5380                                                           These are great. \\nHow do you fill colour?   \n",
       "...                                                                                                   ...   \n",
       "1331                                                                             All roads lead to Putin.   \n",
       "1330                                                                                    gearvr lens mod??   \n",
       "1329                                                                                   Could always try 😉   \n",
       "1328  OMG Right!!! they are soooooooo adorable! On the topic of adorable! I really love your elegant d...   \n",
       "3561                                                                                                 🔥🔥🔥🥵   \n",
       "\n",
       "      reply_created_utc  word_count  \n",
       "5381         1614144685          39  \n",
       "5382         1614149168          17  \n",
       "5384         1614175292           8  \n",
       "5379         1614141548          16  \n",
       "5380         1614143553          33  \n",
       "...                 ...         ...  \n",
       "1331         1622869165          20  \n",
       "1330         1622869165          15  \n",
       "1329         1622869165          15  \n",
       "1328         1622869165         125  \n",
       "3561         1622870265           4  \n",
       "\n",
       "[6323 rows x 9 columns]"
      ]
     },
     "execution_count": 269,
     "metadata": {},
     "output_type": "execute_result"
    }
   ],
   "source": [
    "data.sort_values(by=['submission_score'], ascending = False)"
   ]
  },
  {
   "cell_type": "code",
   "execution_count": 264,
   "metadata": {},
   "outputs": [
    {
     "data": {
      "text/plain": [
       "array([  1,   3,   8,   2,   5,   0,   7,   4,   6,  25,  12,  45,  17,\n",
       "         9,  11,  64,  29,  47,  38,  22,  10,  42,  48, 132,  24,  30,\n",
       "        84,  16])"
      ]
     },
     "execution_count": 264,
     "metadata": {},
     "output_type": "execute_result"
    }
   ],
   "source": [
    "data['submission_score'].unique()"
   ]
  },
  {
   "cell_type": "code",
   "execution_count": 106,
   "metadata": {},
   "outputs": [
    {
     "name": "stdout",
     "output_type": "stream",
     "text": [
      "Total number of submissions: 6618\n",
      "Unique submissions: 639\n"
     ]
    }
   ],
   "source": [
    "print(\"Total number of submissions:\" ,len(data))\n",
    "print(\"Unique submissions:\",len(data['submission_id'].unique()))"
   ]
  },
  {
   "cell_type": "code",
   "execution_count": 107,
   "metadata": {},
   "outputs": [
    {
     "name": "stdout",
     "output_type": "stream",
     "text": [
      "Total number of submissions (After removing dups): 6542\n"
     ]
    }
   ],
   "source": [
    "# Removing duplicates:\n",
    "data = data.drop_duplicates()\n",
    "print(\"Total number of submissions (After removing dups):\" ,len(data))"
   ]
  },
  {
   "cell_type": "code",
   "execution_count": 108,
   "metadata": {},
   "outputs": [
    {
     "data": {
      "text/html": [
       "<div>\n",
       "<style scoped>\n",
       "    .dataframe tbody tr th:only-of-type {\n",
       "        vertical-align: middle;\n",
       "    }\n",
       "\n",
       "    .dataframe tbody tr th {\n",
       "        vertical-align: top;\n",
       "    }\n",
       "\n",
       "    .dataframe thead th {\n",
       "        text-align: right;\n",
       "    }\n",
       "</style>\n",
       "<table border=\"1\" class=\"dataframe\">\n",
       "  <thead>\n",
       "    <tr style=\"text-align: right;\">\n",
       "      <th></th>\n",
       "      <th>reply_body</th>\n",
       "      <th>Count</th>\n",
       "    </tr>\n",
       "  </thead>\n",
       "  <tbody>\n",
       "    <tr>\n",
       "      <th>5313</th>\n",
       "      <td>[removed]</td>\n",
       "      <td>118</td>\n",
       "    </tr>\n",
       "    <tr>\n",
       "      <th>5308</th>\n",
       "      <td>[deleted]</td>\n",
       "      <td>101</td>\n",
       "    </tr>\n",
       "    <tr>\n",
       "      <th>3883</th>\n",
       "      <td>Thank you!</td>\n",
       "      <td>26</td>\n",
       "    </tr>\n",
       "    <tr>\n",
       "      <th>783</th>\n",
       "      <td>Done, please upvote my Pinned Post! Oh please!...</td>\n",
       "      <td>12</td>\n",
       "    </tr>\n",
       "    <tr>\n",
       "      <th>3931</th>\n",
       "      <td>Thanks</td>\n",
       "      <td>10</td>\n",
       "    </tr>\n",
       "    <tr>\n",
       "      <th>...</th>\n",
       "      <td>...</td>\n",
       "      <td>...</td>\n",
       "    </tr>\n",
       "    <tr>\n",
       "      <th>2019</th>\n",
       "      <td>I used the app \"Over\" last time I made them la...</td>\n",
       "      <td>1</td>\n",
       "    </tr>\n",
       "    <tr>\n",
       "      <th>2018</th>\n",
       "      <td>I used both, right now mostly good notes. Here...</td>\n",
       "      <td>1</td>\n",
       "    </tr>\n",
       "    <tr>\n",
       "      <th>2017</th>\n",
       "      <td>I used a free font I downloaded called “Everyt...</td>\n",
       "      <td>1</td>\n",
       "    </tr>\n",
       "    <tr>\n",
       "      <th>2016</th>\n",
       "      <td>I used Keynote, and just change the size of th...</td>\n",
       "      <td>1</td>\n",
       "    </tr>\n",
       "    <tr>\n",
       "      <th>6009</th>\n",
       "      <td>🦈</td>\n",
       "      <td>1</td>\n",
       "    </tr>\n",
       "  </tbody>\n",
       "</table>\n",
       "<p>6010 rows × 2 columns</p>\n",
       "</div>"
      ],
      "text/plain": [
       "                                             reply_body  Count\n",
       "5313                                          [removed]    118\n",
       "5308                                          [deleted]    101\n",
       "3883                                         Thank you!     26\n",
       "783   Done, please upvote my Pinned Post! Oh please!...     12\n",
       "3931                                             Thanks     10\n",
       "...                                                 ...    ...\n",
       "2019  I used the app \"Over\" last time I made them la...      1\n",
       "2018  I used both, right now mostly good notes. Here...      1\n",
       "2017  I used a free font I downloaded called “Everyt...      1\n",
       "2016  I used Keynote, and just change the size of th...      1\n",
       "6009                                                  🦈      1\n",
       "\n",
       "[6010 rows x 2 columns]"
      ]
     },
     "execution_count": 108,
     "metadata": {},
     "output_type": "execute_result"
    }
   ],
   "source": [
    "# Printing the same reply comments, to identify irrelevant messages\n",
    "data[['reply_body']].groupby(['reply_body']).size().reset_index(name='Count').sort_values(by='Count', ascending=False)"
   ]
  },
  {
   "cell_type": "code",
   "execution_count": 115,
   "metadata": {},
   "outputs": [],
   "source": [
    "# Removing irrelevant messages:\n",
    "irrelevant_messages = ['[removed]','[deleted]']\n",
    "\n",
    "data = data[data['reply_body'].apply(lambda x: x.strip() not in irrelevant_messages )]"
   ]
  },
  {
   "cell_type": "code",
   "execution_count": 116,
   "metadata": {},
   "outputs": [
    {
     "name": "stdout",
     "output_type": "stream",
     "text": [
      "Total number of submissions (After removing irrelevants): 6323\n"
     ]
    }
   ],
   "source": [
    "print(\"Total number of submissions (After removing irrelevants):\" ,len(data))"
   ]
  },
  {
   "cell_type": "markdown",
   "metadata": {},
   "source": [
    "## 3. Simple Statistics "
   ]
  },
  {
   "cell_type": "code",
   "execution_count": 125,
   "metadata": {},
   "outputs": [
    {
     "name": "stdout",
     "output_type": "stream",
     "text": [
      "Average words in a reply:  135.02862565238019\n"
     ]
    }
   ],
   "source": [
    "print(\"Average words in a reply: \",data['reply_body'].apply(lambda x: len(' '.join(x).split())).mean())"
   ]
  },
  {
   "cell_type": "code",
   "execution_count": 143,
   "metadata": {},
   "outputs": [
    {
     "name": "stdout",
     "output_type": "stream",
     "text": [
      "Average replies per submission: 9.895148669796557\n"
     ]
    }
   ],
   "source": [
    "print(\"Average replies per submission:\", \\\n",
    "      data[['submission_id']] \\\n",
    "          .groupby(['submission_id']).size().reset_index(name='count') \\\n",
    "          ['count'].mean())"
   ]
  },
  {
   "cell_type": "code",
   "execution_count": 148,
   "metadata": {},
   "outputs": [
    {
     "name": "stdout",
     "output_type": "stream",
     "text": [
      "Average upvotes per submission: 2.395931142410016\n"
     ]
    }
   ],
   "source": [
    "print(\"Average upvotes per submission:\", \\\n",
    "data[['submission_id','submission_score']] \\\n",
    "    .groupby(['submission_id','submission_score']).size().reset_index(name='count') \\\n",
    "    ['submission_score'].mean())\n"
   ]
  },
  {
   "cell_type": "markdown",
   "metadata": {},
   "source": [
    "## 4. The Most Popular Threads"
   ]
  },
  {
   "cell_type": "markdown",
   "metadata": {},
   "source": [
    "Ho do we define popular?\n",
    "First two things that poped to my mind were:  \n",
    "* number of replies per thread\n",
    "* upvote\n",
    "\n",
    "But perhaps number of reply per thread is a better indicator, since it reflects how many people engaged with the thread (Positively, Negatively or Neutrally), wereas upvote only shows how many people found it useful. \n"
   ]
  },
  {
   "cell_type": "code",
   "execution_count": 275,
   "metadata": {},
   "outputs": [
    {
     "data": {
      "text/plain": [
       "<pandas.core.groupby.generic.DataFrameGroupBy object at 0x13385d490>"
      ]
     },
     "execution_count": 275,
     "metadata": {},
     "output_type": "execute_result"
    }
   ],
   "source": [
    "data[['submission_id','submission_title']].groupby(['submission_id','submission_title'])"
   ]
  },
  {
   "cell_type": "code",
   "execution_count": 278,
   "metadata": {},
   "outputs": [
    {
     "data": {
      "text/html": [
       "<div>\n",
       "<style scoped>\n",
       "    .dataframe tbody tr th:only-of-type {\n",
       "        vertical-align: middle;\n",
       "    }\n",
       "\n",
       "    .dataframe tbody tr th {\n",
       "        vertical-align: top;\n",
       "    }\n",
       "\n",
       "    .dataframe thead th {\n",
       "        text-align: right;\n",
       "    }\n",
       "</style>\n",
       "<table border=\"1\" class=\"dataframe\">\n",
       "  <thead>\n",
       "    <tr style=\"text-align: right;\">\n",
       "      <th></th>\n",
       "      <th>submission_title</th>\n",
       "      <th>reply_count</th>\n",
       "    </tr>\n",
       "  </thead>\n",
       "  <tbody>\n",
       "    <tr>\n",
       "      <th>477</th>\n",
       "      <td>GoodNotes is the best thing ever🥰🥰🥰</td>\n",
       "      <td>42</td>\n",
       "    </tr>\n",
       "    <tr>\n",
       "      <th>603</th>\n",
       "      <td>thinking about getting an ipad...</td>\n",
       "      <td>41</td>\n",
       "    </tr>\n",
       "    <tr>\n",
       "      <th>253</th>\n",
       "      <td>If I posted free digital stickers, would you use them?</td>\n",
       "      <td>38</td>\n",
       "    </tr>\n",
       "    <tr>\n",
       "      <th>430</th>\n",
       "      <td>I tried out procreate and made 25 fun notebook covers for you all (link in comments)</td>\n",
       "      <td>37</td>\n",
       "    </tr>\n",
       "    <tr>\n",
       "      <th>456</th>\n",
       "      <td>Since I used GoodNotes my notes gets better every day. Might take time but totally worth it. Let...</td>\n",
       "      <td>35</td>\n",
       "    </tr>\n",
       "    <tr>\n",
       "      <th>359</th>\n",
       "      <td>okay yeah maybeeee i’ll start using dark paper</td>\n",
       "      <td>33</td>\n",
       "    </tr>\n",
       "    <tr>\n",
       "      <th>436</th>\n",
       "      <td>Free 2021 Hyperlink Digital Planner + Stickers ✨| GoodNotes 5 📖 | Digital Planning Made Easy |</td>\n",
       "      <td>31</td>\n",
       "    </tr>\n",
       "    <tr>\n",
       "      <th>406</th>\n",
       "      <td>2021 digital planner with hyperlinks</td>\n",
       "      <td>30</td>\n",
       "    </tr>\n",
       "    <tr>\n",
       "      <th>532</th>\n",
       "      <td>Why isn’t GoodNotes indexing anything on this file? The ‘text’ isn’t selectable, but GN used to ...</td>\n",
       "      <td>29</td>\n",
       "    </tr>\n",
       "    <tr>\n",
       "      <th>3</th>\n",
       "      <td>What happened to the pen (Goodnotes 5)?</td>\n",
       "      <td>28</td>\n",
       "    </tr>\n",
       "  </tbody>\n",
       "</table>\n",
       "</div>"
      ],
      "text/plain": [
       "                                                                                        submission_title  \\\n",
       "477                                                                  GoodNotes is the best thing ever🥰🥰🥰   \n",
       "603                                                                    thinking about getting an ipad...   \n",
       "253                                               If I posted free digital stickers, would you use them?   \n",
       "430                 I tried out procreate and made 25 fun notebook covers for you all (link in comments)   \n",
       "456  Since I used GoodNotes my notes gets better every day. Might take time but totally worth it. Let...   \n",
       "359                                                       okay yeah maybeeee i’ll start using dark paper   \n",
       "436       Free 2021 Hyperlink Digital Planner + Stickers ✨| GoodNotes 5 📖 | Digital Planning Made Easy |   \n",
       "406                                                                 2021 digital planner with hyperlinks   \n",
       "532  Why isn’t GoodNotes indexing anything on this file? The ‘text’ isn’t selectable, but GN used to ...   \n",
       "3                                                                What happened to the pen (Goodnotes 5)?   \n",
       "\n",
       "     reply_count  \n",
       "477           42  \n",
       "603           41  \n",
       "253           38  \n",
       "430           37  \n",
       "456           35  \n",
       "359           33  \n",
       "436           31  \n",
       "406           30  \n",
       "532           29  \n",
       "3             28  "
      ]
     },
     "execution_count": 278,
     "metadata": {},
     "output_type": "execute_result"
    }
   ],
   "source": [
    "# Most Popular Threads by count of replies:\n",
    "data[['submission_id','submission_title']] \\\n",
    "    .groupby(['submission_id','submission_title']).size().reset_index(name='reply_count') \\\n",
    "    .sort_values(by=['reply_count'], ascending=False).head(10)[['submission_title','reply_count']]"
   ]
  },
  {
   "cell_type": "code",
   "execution_count": 172,
   "metadata": {},
   "outputs": [
    {
     "name": "stdout",
     "output_type": "stream",
     "text": [
      "Title: GoodNotes is the best thing ever🥰🥰🥰\n",
      "Replies:\n"
     ]
    },
    {
     "data": {
      "text/plain": [
       "4750                                                                            Do you do IB by any chance?\n",
       "4752                                                                                                  yes!!\n",
       "4753                            Oml, gl. I graduated last year and I couldn't be happier leaving it behind.\n",
       "4754    hahah thanks, wishing the may exam to happen cause otherwise with mock and ias to weigh more im ...\n",
       "4755                                                  Is this your actual handwriting or some kind of font?\n",
       "4756                                         Wow did you use a font or did you actually write this by hand?\n",
       "4759                                                                            no heheh its my handwriting\n",
       "4761                                                                                   its my handwriting☺️\n",
       "4762                                                              i love the little drawings on the bottom!\n",
       "4763    from these responses, people (including I myself lol) adore you handwriting. It’s actually possi...\n",
       "4764                                                                     YOUR HANDWRITING IS INCREDIBLE OMG\n",
       "4765                                                           Omg your drawings at the bottom are amazing!\n",
       "4766                Actually there s a way to import new fonts to goodnotes. Search on youtube if you want.\n",
       "4767                                                                              Your notes are beautiful!\n",
       "4768                                                                     omg that's awesome, Im jealous af!\n",
       "4769      I need handwriting like this, mine looks like gibberish that even I the writer cannot understand.\n",
       "4770    I love how you draw the joint models by yourself, they are very well done and cute! I remember l...\n",
       "4771                                                                                                    😂😂😂\n",
       "4772    omg wow thnks!! thats really cool i never really think about that. i might do that. sounds inter...\n",
       "4773                                          thanks! found them online and decided to redraw it on my own😁\n",
       "4774                                                                                       you made my day🥰\n",
       "4775                                                        found them online and i redraw them on my own!!\n",
       "4776    the only time i can draw stuff on my notes, ahahaha. most of the time i copy and pasted the diag...\n",
       "4777                                                                                          THANK YOUUU♥️\n",
       "4778                                                                                                 notedd\n",
       "4779     Looks so nice! It looks like a font!! Did you do those little drawings at the bottom their also? 😌\n",
       "4780                                        thanks!! i found them online but then i redraw them myself here\n",
       "4782                                                                                      They’re so cute!!\n",
       "4783                                             can you share where you found them? they look very helpful\n",
       "4784    How in the world are drawings like these made? Do you have a tutorial/video for getting those pe...\n",
       "4785    its from [bioninja](https://ib.bioninja.com.au/) more suitable for people who takes ib curriculu...\n",
       "4786    do you use the far left option on the toolbar? it helps you to write neatly and thats how i draw...\n",
       "4787                                                                                   Notability is better\n",
       "4788                                                              Thanks for the tips! I'll try them out :)\n",
       "4789                                                                     let me know if you need more helpp\n",
       "4790    that’s what i do :) usually i’ll split screen or have a little safari window open and then drag ...\n",
       "4791                                                    aah a fellow ib student\\n\\nyour notes are so pretty\n",
       "4792                                                                                     may 2021? thanks!!\n",
       "4793                                                                                 may/nov 2020 actually!\n",
       "4794                                                                oh wow you’re done with it. so jealouss\n",
       "4795    i‘ve been spending so much time talking to ib students i don‘t feel like i‘m done\\n\\nkinda wish ...\n",
       "4796                         ohhh ahahahah. yeah im sure once im done i wish that i could retake them again\n",
       "Name: reply_body, dtype: object"
      ]
     },
     "execution_count": 172,
     "metadata": {},
     "output_type": "execute_result"
    }
   ],
   "source": [
    "# Looking at the most popular submission:\n",
    "pd.set_option('display.max_colwidth', 100)\n",
    "\n",
    "most_popular_thread = data[data['submission_id']=='l8kvd1'].sort_values(by=['reply_created_utc'], ascending=True)\n",
    "\n",
    "print(\"Title:\",list(data[data['submission_id']=='l8kvd1']['submission_title'])[0])\n",
    "print(\"Replies:\")\n",
    "most_popular_thread['reply_body']"
   ]
  },
  {
   "cell_type": "markdown",
   "metadata": {},
   "source": [
    "What are people discussing in the most popular thread:\n",
    "* GoodNotes software\n",
    "* IB Curriculum\n",
    "* Person's handwriting\n",
    "* Drawings in GoodNotes\n",
    "* Fonts in GoodNotes\n",
    "* Joint Models"
   ]
  },
  {
   "cell_type": "markdown",
   "metadata": {},
   "source": [
    "## 5. Top words mentioned in the reply:"
   ]
  },
  {
   "cell_type": "code",
   "execution_count": 190,
   "metadata": {},
   "outputs": [],
   "source": [
    "import nltk\n",
    "import numpy as np\n",
    "from sklearn.feature_extraction.text import CountVectorizer"
   ]
  },
  {
   "cell_type": "code",
   "execution_count": 249,
   "metadata": {},
   "outputs": [],
   "source": [
    "def ngramExtraction(texts, ngram_range=(1,1)):\n",
    "    cv = CountVectorizer(ngram_range=ngram_range)\n",
    "    X = cv.fit_transform(texts)\n",
    "    word_list = cv.get_feature_names_out()\n",
    "    count_list = np.asarray(X.sum(axis=0))[0]\n",
    "    return pd.DataFrame({'ngram':word_list, 'count':count_list }).sort_values(by=['count'], ascending=False)\n",
    "\n",
    "def visualizeNgrams(texts, n=1, limit=15):\n",
    "    ngrams = ngramExtraction(texts,ngram_range=(n,n))\n",
    "    plt.figure(figsize=(15,7))\n",
    "    plt.title(\"Top %d ngrams (n=%d)\"%(limit,n))\n",
    "    ax=sns.barplot(x=\"ngram\", y=\"count\", data=ngrams[0:limit])\n",
    "    plt.plot()"
   ]
  },
  {
   "cell_type": "code",
   "execution_count": 252,
   "metadata": {},
   "outputs": [
    {
     "data": {
      "image/png": "[encoded data removed]",
      "text/plain": [
       "<Figure size 1080x504 with 1 Axes>"
      ]
     },
     "metadata": {
      "needs_background": "light"
     },
     "output_type": "display_data"
    }
   ],
   "source": [
    "visualizeNgrams(data['reply_body'], n=1)"
   ]
  },
  {
   "cell_type": "code",
   "execution_count": 253,
   "metadata": {},
   "outputs": [
    {
     "data": {
      "image/png": "[encoded data removed]",
      "text/plain": [
       "<Figure size 1080x504 with 1 Axes>"
      ]
     },
     "metadata": {
      "needs_background": "light"
     },
     "output_type": "display_data"
    }
   ],
   "source": [
    "visualizeNgrams(data['reply_body'], n=2)"
   ]
  },
  {
   "cell_type": "code",
   "execution_count": 257,
   "metadata": {},
   "outputs": [
    {
     "data": {
      "image/png": "[encoded data removed]",
      "text/plain": [
       "<Figure size 1080x504 with 1 Axes>"
      ]
     },
     "metadata": {
      "needs_background": "light"
     },
     "output_type": "display_data"
    }
   ],
   "source": [
    "visualizeNgrams(data['reply_body'], n=3, limit=7)"
   ]
  },
  {
   "cell_type": "code",
   "execution_count": 259,
   "metadata": {},
   "outputs": [
    {
     "data": {
      "image/png": "[encoded data removed]",
      "text/plain": [
       "<Figure size 1080x504 with 1 Axes>"
      ]
     },
     "metadata": {
      "needs_background": "light"
     },
     "output_type": "display_data"
    }
   ],
   "source": [
    "visualizeNgrams(data['reply_body'], n=4, limit=5)"
   ]
  },
  {
   "cell_type": "markdown",
   "metadata": {},
   "source": [
    "#### Observations:\n",
    "* Top words don't seem to reveal real meaning of replies since all 15 top words are stopwords, so we definitelly need to exclude stop words to get more meaning\n",
    "* N grams of n=4 reveal that a number of posts include standard disclaimer to contact the moderators for questions\n",
    "\n"
   ]
  },
  {
   "cell_type": "code",
   "execution_count": 261,
   "metadata": {},
   "outputs": [],
   "source": [
    "data.to_csv(\"initial_eda.csv\", index=False)"
   ]
  },
  {
   "cell_type": "code",
   "execution_count": null,
   "metadata": {},
   "outputs": [],
   "source": []
  }
 ],
 "metadata": {
  "kernelspec": {
   "display_name": "manningLp",
   "language": "python",
   "name": "manninglp"
  },
  "language_info": {
   "codemirror_mode": {
    "name": "ipython",
    "version": 3
   },
   "file_extension": ".py",
   "mimetype": "text/x-python",
   "name": "python",
   "nbconvert_exporter": "python",
   "pygments_lexer": "ipython3",
   "version": "3.8.9"
  }
 },
 "nbformat": 4,
 "nbformat_minor": 4
}
